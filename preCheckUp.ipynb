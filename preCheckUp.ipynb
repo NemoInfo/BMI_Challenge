{
 "cells": [
  {
   "cell_type": "code",
   "execution_count": 5,
   "metadata": {},
   "outputs": [
    {
     "name": "stdout",
     "output_type": "stream",
     "text": [
      "dict_keys(['__header__', '__version__', '__globals__', 'trial'])\n",
      "(100, 8)\n"
     ]
    }
   ],
   "source": [
    "# import .mat file\n",
    "import scipy.io\n",
    "\n",
    "# load .mat file\n",
    "mat = scipy.io.loadmat('monkeydata_training.mat')\n",
    "\n",
    "# print mat file size and structure\n",
    "print(mat.keys())\n",
    "\n",
    "# print \"trial\" column\n",
    "print(mat['trial'].shape)\n"
   ]
  },
  {
   "cell_type": "markdown",
   "metadata": {},
   "source": [
    "The data contains spike trains recorded from 98 neural units while the monkey reached 182 times along each of\n",
    "8 different reaching angles, as well as the monkey’s arm trajectory on each trial. On each trial, both the neural\n",
    "data and arm trajectory are taken from 300 ms before movement onset until 100 ms after movement end. The\n",
    "trials of different reaching angles were interleaved; and the neural data includes both well-isolated single-neuron\n",
    "units (~ 30% of all units), as well as multi-neuron units. The set has been divided into a training dataset of 100\n",
    "trials per reaching angle and a test file of 82*8 trials. The former can be found on Blackboard as a .mat file,\n",
    "while the latter is not accessible by students."
   ]
  },
  {
   "cell_type": "code",
   "execution_count": 14,
   "metadata": {},
   "outputs": [
    {
     "data": {
      "text/plain": [
       "(100, 8)"
      ]
     },
     "execution_count": 14,
     "metadata": {},
     "output_type": "execute_result"
    }
   ],
   "source": [
    "trials = mat['trial']\n",
    "\n",
    "trials.shape\n",
    "\n",
    "# print trial keys\n",
    "# print(trials[1,1])\n",
    "\n",
    "\n"
   ]
  }
 ],
 "metadata": {
  "kernelspec": {
   "display_name": "acc-tensorflow",
   "language": "python",
   "name": "python3"
  },
  "language_info": {
   "codemirror_mode": {
    "name": "ipython",
    "version": 3
   },
   "file_extension": ".py",
   "mimetype": "text/x-python",
   "name": "python",
   "nbconvert_exporter": "python",
   "pygments_lexer": "ipython3",
   "version": "3.8.18"
  }
 },
 "nbformat": 4,
 "nbformat_minor": 2
}
